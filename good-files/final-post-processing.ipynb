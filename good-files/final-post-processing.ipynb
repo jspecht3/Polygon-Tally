{
 "cells": [
  {
   "cell_type": "code",
   "execution_count": 1,
   "id": "db835c69-2314-4c29-9540-65bfca9b884a",
   "metadata": {},
   "outputs": [],
   "source": [
    "from polygon_tally import *\n",
    "import numpy as np\n",
    "import matplotlib.pyplot as plt\n",
    "import csv"
   ]
  },
  {
   "cell_type": "code",
   "execution_count": 2,
   "id": "8a7554d7-921b-4c2c-84cf-664a4070d515",
   "metadata": {},
   "outputs": [],
   "source": [
    "data = {3: {}, 20: {}}\n",
    "\n",
    "for side in data:\n",
    "    for key in ['ck', 'cz']:\n",
    "        data[side][key] = {}\n",
    "        for n in range(36):\n",
    "            data[side][key][n] = {}\n",
    "            for m in np.arange(-n, n + 1, 2):\n",
    "                data[side][key][n][m] = {}\n",
    "\n",
    "for sides in [3, 20]:\n",
    "    for approx in ['ck', 'cz']:\n",
    "        path = f'output/different-polygons/{sides}sides/{approx}s.txt'\n",
    "        with open(path, newline='') as file:\n",
    "            reader = csv.reader(file, delimiter=',')\n",
    "            for row in reader:\n",
    "                data[sides][approx][int(row[0])][int(row[1])] = float(row[2])"
   ]
  },
  {
   "cell_type": "code",
   "execution_count": 3,
   "id": "7a7bb98e-7965-4be3-8183-5af6498ed3c1",
   "metadata": {},
   "outputs": [],
   "source": [
    "num_sides = 3\n",
    "polygon_radius = 1\n",
    "mesh_size = 5000\n",
    "\n",
    "k0 = KApprox(num_sides, polygon_radius, mesh_size)\n",
    "z0 = KApprox(num_sides, polygon_radius, mesh_size)\n",
    "x, y = k0.x, k0.y"
   ]
  },
  {
   "cell_type": "code",
   "execution_count": 8,
   "id": "5a5226d8-3e8f-4fd1-99e2-86bee0a3c9ab",
   "metadata": {},
   "outputs": [
    {
     "data": {
      "image/png": "[encoded data removed]",
      "text/plain": [
       "<Figure size 640x480 with 2 Axes>"
      ]
     },
     "metadata": {},
     "output_type": "display_data"
    }
   ],
   "source": [
    "fa = base_input(x,y)\n",
    "k0.plotter(fa)"
   ]
  },
  {
   "cell_type": "code",
   "execution_count": 23,
   "id": "623a372e-9625-4ecb-9b3f-48f16d21e3a7",
   "metadata": {},
   "outputs": [
    {
     "name": "stdout",
     "output_type": "stream",
     "text": [
      "0\n",
      "1\n",
      "2\n",
      "3\n",
      "4\n",
      "5\n",
      "6\n",
      "7\n",
      "8\n",
      "9\n",
      "10\n",
      "11\n",
      "12\n",
      "13\n",
      "14\n",
      "15\n",
      "16\n",
      "17\n",
      "18\n",
      "19\n",
      "20\n",
      "21\n",
      "22\n",
      "23\n",
      "24\n"
     ]
    },
    {
     "ename": "KeyboardInterrupt",
     "evalue": "",
     "output_type": "error",
     "traceback": [
      "\u001b[0;31m---------------------------------------------------------------------------\u001b[0m",
      "\u001b[0;31mKeyboardInterrupt\u001b[0m                         Traceback (most recent call last)",
      "Cell \u001b[0;32mIn[23], line 13\u001b[0m\n\u001b[1;32m     10\u001b[0m         ck \u001b[38;5;241m=\u001b[39m data[\u001b[38;5;241m3\u001b[39m][\u001b[38;5;124m'\u001b[39m\u001b[38;5;124mck\u001b[39m\u001b[38;5;124m'\u001b[39m][n][m]\n\u001b[1;32m     11\u001b[0m         cz \u001b[38;5;241m=\u001b[39m data[\u001b[38;5;241m3\u001b[39m][\u001b[38;5;124m'\u001b[39m\u001b[38;5;124mck\u001b[39m\u001b[38;5;124m'\u001b[39m][n][m]\n\u001b[0;32m---> 13\u001b[0m         fk \u001b[38;5;241m+\u001b[39m\u001b[38;5;241m=\u001b[39m np\u001b[38;5;241m.\u001b[39mfloat64(ck \u001b[38;5;241m*\u001b[39m \u001b[43mbk\u001b[49m\u001b[38;5;241;43m.\u001b[39;49m\u001b[43mk_nm\u001b[49m\u001b[43m(\u001b[49m\u001b[43mx\u001b[49m\u001b[43m,\u001b[49m\u001b[43my\u001b[49m\u001b[43m)\u001b[49m)\n\u001b[1;32m     14\u001b[0m         fz \u001b[38;5;241m+\u001b[39m\u001b[38;5;241m=\u001b[39m np\u001b[38;5;241m.\u001b[39mfloat64(cz \u001b[38;5;241m*\u001b[39m bz\u001b[38;5;241m.\u001b[39mz_nm(x,y))\n\u001b[1;32m     16\u001b[0m k0\u001b[38;5;241m.\u001b[39mplotter(fk)\n",
      "File \u001b[0;32m~/projects/polygon-tally/polygon_tally/zernike_like.py:706\u001b[0m, in \u001b[0;36mKBasis.k_nm\u001b[0;34m(self, x, y)\u001b[0m\n\u001b[1;32m    703\u001b[0m rho \u001b[38;5;241m=\u001b[39m r \u001b[38;5;241m/\u001b[39m variable_radius\n\u001b[1;32m    704\u001b[0m phi \u001b[38;5;241m=\u001b[39m theta\n\u001b[0;32m--> 706\u001b[0m k_nm_value \u001b[38;5;241m=\u001b[39m \u001b[38;5;28;43mself\u001b[39;49m\u001b[38;5;241;43m.\u001b[39;49m\u001b[43mzernike_nm\u001b[49m\u001b[43m(\u001b[49m\u001b[43mrho\u001b[49m\u001b[43m,\u001b[49m\u001b[43m \u001b[49m\u001b[43mphi\u001b[49m\u001b[43m,\u001b[49m\u001b[43m \u001b[49m\u001b[38;5;28;43mself\u001b[39;49m\u001b[38;5;241;43m.\u001b[39;49m\u001b[43mn\u001b[49m\u001b[43m,\u001b[49m\u001b[43m \u001b[49m\u001b[38;5;28;43mself\u001b[39;49m\u001b[38;5;241;43m.\u001b[39;49m\u001b[43mm\u001b[49m\u001b[43m)\u001b[49m\n\u001b[1;32m    708\u001b[0m \u001b[38;5;28;01mreturn\u001b[39;00m k_nm_value\n",
      "File \u001b[0;32m~/projects/polygon-tally/polygon_tally/zernike_like.py:243\u001b[0m, in \u001b[0;36mZernikeParent.zernike_nm\u001b[0;34m(self, rho, phi, n, m)\u001b[0m\n\u001b[1;32m    237\u001b[0m \u001b[38;5;66;03m# checking\u001b[39;00m\n\u001b[1;32m    238\u001b[0m \u001b[38;5;66;03m#self.rho_checker(rho)\u001b[39;00m\n\u001b[1;32m    239\u001b[0m \u001b[38;5;66;03m#self.phi_checker(phi)\u001b[39;00m\n\u001b[1;32m    240\u001b[0m \n\u001b[1;32m    241\u001b[0m \u001b[38;5;66;03m# value of the Zernike polynomial\u001b[39;00m\n\u001b[1;32m    242\u001b[0m \u001b[38;5;28;01mif\u001b[39;00m m \u001b[38;5;241m>\u001b[39m\u001b[38;5;241m=\u001b[39m \u001b[38;5;241m0\u001b[39m:\n\u001b[0;32m--> 243\u001b[0m     \u001b[38;5;28;01mreturn\u001b[39;00m \u001b[38;5;28mself\u001b[39m\u001b[38;5;241m.\u001b[39mn_nm(n, m) \u001b[38;5;241m*\u001b[39m \u001b[38;5;28;43mself\u001b[39;49m\u001b[38;5;241;43m.\u001b[39;49m\u001b[43mr_nm\u001b[49m\u001b[43m(\u001b[49m\u001b[43mrho\u001b[49m\u001b[43m,\u001b[49m\u001b[43m \u001b[49m\u001b[43mn\u001b[49m\u001b[43m,\u001b[49m\u001b[43m \u001b[49m\u001b[43mm\u001b[49m\u001b[43m)\u001b[49m \u001b[38;5;241m*\u001b[39m np\u001b[38;5;241m.\u001b[39mcos(m \u001b[38;5;241m*\u001b[39m phi)\n\u001b[1;32m    244\u001b[0m \u001b[38;5;28;01melse\u001b[39;00m:\n\u001b[1;32m    245\u001b[0m     \u001b[38;5;28;01mreturn\u001b[39;00m \u001b[38;5;241m-\u001b[39m\u001b[38;5;241m1\u001b[39m \u001b[38;5;241m*\u001b[39m \u001b[38;5;28mself\u001b[39m\u001b[38;5;241m.\u001b[39mn_nm(n, m) \u001b[38;5;241m*\u001b[39m \u001b[38;5;28mself\u001b[39m\u001b[38;5;241m.\u001b[39mr_nm(rho, n, m) \u001b[38;5;241m*\u001b[39m np\u001b[38;5;241m.\u001b[39msin(m \u001b[38;5;241m*\u001b[39m phi)\n",
      "File \u001b[0;32m~/projects/polygon-tally/polygon_tally/zernike_like.py:214\u001b[0m, in \u001b[0;36mZernikeParent.r_nm\u001b[0;34m(self, rho, n, m)\u001b[0m\n\u001b[1;32m    212\u001b[0m \u001b[38;5;28;01mfor\u001b[39;00m k \u001b[38;5;129;01min\u001b[39;00m \u001b[38;5;28mrange\u001b[39m(max_index \u001b[38;5;241m+\u001b[39m \u001b[38;5;241m1\u001b[39m):\n\u001b[1;32m    213\u001b[0m     numerator \u001b[38;5;241m=\u001b[39m (\u001b[38;5;241m-\u001b[39m\u001b[38;5;241m1\u001b[39m)\u001b[38;5;241m*\u001b[39m\u001b[38;5;241m*\u001b[39mk \u001b[38;5;241m*\u001b[39m factorial(n \u001b[38;5;241m-\u001b[39m k) \u001b[38;5;241m*\u001b[39m rho\u001b[38;5;241m*\u001b[39m\u001b[38;5;241m*\u001b[39m(n \u001b[38;5;241m-\u001b[39m \u001b[38;5;241m2\u001b[39m \u001b[38;5;241m*\u001b[39m k)\n\u001b[0;32m--> 214\u001b[0m     denominator \u001b[38;5;241m=\u001b[39m \u001b[43mfactorial\u001b[49m\u001b[43m(\u001b[49m\u001b[43mk\u001b[49m\u001b[43m)\u001b[49m \u001b[38;5;241m*\u001b[39m factorial(\u001b[38;5;28mint\u001b[39m((n \u001b[38;5;241m+\u001b[39m \u001b[38;5;28mabs\u001b[39m(m)) \u001b[38;5;241m/\u001b[39m \u001b[38;5;241m2\u001b[39m \u001b[38;5;241m-\u001b[39m k)) \u001b[38;5;241m*\u001b[39m factorial(\u001b[38;5;28mint\u001b[39m((n \u001b[38;5;241m-\u001b[39m \u001b[38;5;28mabs\u001b[39m(m)) \u001b[38;5;241m/\u001b[39m \u001b[38;5;241m2\u001b[39m \u001b[38;5;241m-\u001b[39m k))\n\u001b[1;32m    216\u001b[0m     R_nm \u001b[38;5;241m+\u001b[39m\u001b[38;5;241m=\u001b[39m numerator \u001b[38;5;241m/\u001b[39m denominator\n\u001b[1;32m    218\u001b[0m \u001b[38;5;28;01mreturn\u001b[39;00m R_nm\n",
      "\u001b[0;31mKeyboardInterrupt\u001b[0m: "
     ]
    }
   ],
   "source": [
    "fk = 0\n",
    "fz = 0\n",
    "\n",
    "for n in range(36):\n",
    "    print(n)\n",
    "    for m in np.arange(-n, n+1, 2):\n",
    "        bk = KBasis(n, m, num_sides, polygon_radius)\n",
    "        bz = ZBasis(n, m, num_sides, polygon_radius)\n",
    "\n",
    "        ck = data[3]['ck'][n][m]\n",
    "        cz = data[3]['ck'][n][m]\n",
    "\n",
    "        fk += np.float64(ck * bk.k_nm(x,y))\n",
    "        fz += np.float64(cz * bz.z_nm(x,y))\n",
    "\n",
    "k0.plotter(fk)\n",
    "k0.plotter(fz)"
   ]
  }
 ],
 "metadata": {
  "kernelspec": {
   "display_name": "Python 3 (ipykernel)",
   "language": "python",
   "name": "python3"
  },
  "language_info": {
   "codemirror_mode": {
    "name": "ipython",
    "version": 3
   },
   "file_extension": ".py",
   "mimetype": "text/x-python",
   "name": "python",
   "nbconvert_exporter": "python",
   "pygments_lexer": "ipython3",
   "version": "3.12.2"
  }
 },
 "nbformat": 4,
 "nbformat_minor": 5
}
