{
 "cells": [
  {
   "cell_type": "code",
   "execution_count": 24,
   "id": "8ee4fdd0-0823-4eec-9d30-8a3fce8ccecf",
   "metadata": {},
   "outputs": [],
   "source": [
    "from scipy.integrate import nquad"
   ]
  },
  {
   "cell_type": "code",
   "execution_count": 16,
   "id": "d58bb669-0933-4379-9a63-608611c99842",
   "metadata": {
    "collapsed": true,
    "jupyter": {
     "outputs_hidden": true,
     "source_hidden": true
    }
   },
   "outputs": [
    {
     "data": {
      "text/plain": [
       "4.0"
      ]
     },
     "execution_count": 16,
     "metadata": {},
     "output_type": "execute_result"
    }
   ],
   "source": [
    "def f(x,y):\n",
    "    return 1\n",
    "\n",
    "def bounds_x():\n",
    "    return [-1, 1]\n",
    "\n",
    "def bounds_y(x):\n",
    "    return [-1,1]#[-(1-x**2)**(1/2), (1-x**2)**(1/2)]\n",
    "\n",
    "nquad(f, [bounds_y, bounds_x])[0]\n",
    "#bounds_x"
   ]
  },
  {
   "cell_type": "code",
   "execution_count": 25,
   "id": "ac015329-c6d5-44a7-8a50-b6328b3b179e",
   "metadata": {
    "collapsed": true,
    "jupyter": {
     "outputs_hidden": true,
     "source_hidden": true
    }
   },
   "outputs": [
    {
     "data": {
      "text/plain": [
       "(4.0, 4.440892098500626e-14)"
      ]
     },
     "execution_count": 25,
     "metadata": {},
     "output_type": "execute_result"
    }
   ],
   "source": [
    "from scipy.integrate import nquad\n",
    "\n",
    "class toy_class():\n",
    "    def gen_bounds(self):\n",
    "        def x_bounds():\n",
    "            return [-1,1]\n",
    "\n",
    "        def y_bounds(x):\n",
    "            return [-1,1]\n",
    "        \n",
    "        return x_bounds, y_bounds\n",
    "\n",
    "xb, yb = toy_class().gen_bounds()\n",
    "f = lambda x, y: 1\n",
    "\n",
    "nquad(f ,[yb, xb])"
   ]
  },
  {
   "cell_type": "code",
   "execution_count": 28,
   "id": "84beeabc-9885-48a6-92bb-e20e20dc8e41",
   "metadata": {
    "collapsed": true,
    "jupyter": {
     "outputs_hidden": true,
     "source_hidden": true
    }
   },
   "outputs": [
    {
     "data": {
      "text/plain": [
       "(4.0, 4.440892098500626e-14)"
      ]
     },
     "execution_count": 28,
     "metadata": {},
     "output_type": "execute_result"
    }
   ],
   "source": [
    "from scipy.integrate import nquad\n",
    "\n",
    "class toy_class():\n",
    "    def gen_bounds(self):\n",
    "        def x_bounds(y):\n",
    "            return [-1 , 1]\n",
    "\n",
    "        def y_bounds():\n",
    "            return [-1 , 1]\n",
    "\n",
    "        return x_bounds, y_bounds\n",
    "\n",
    "xb, yb = toy_class().gen_bounds()\n",
    "\n",
    "nquad(lambda x, y: 1, [xb, yb])"
   ]
  },
  {
   "cell_type": "code",
   "execution_count": 6,
   "id": "735275c2-695c-49cb-92db-a36a02db4e29",
   "metadata": {},
   "outputs": [],
   "source": [
    "#data/ck_num_vs_ana.txt\n",
    "import csv\n",
    "\n",
    "# data\n",
    "ck_n = []\n",
    "ck_m = []\n",
    "num_ck = []\n",
    "ana_ck = []\n",
    "\n",
    "with open('data/ck_num_vs_ana.txt', 'r') as file:\n",
    "    reader = csv.reader(file)\n",
    "    for row in reader:\n",
    "        ck_n.append(row[0])\n",
    "        ck_m.append(row[1])\n",
    "        num_ck.append(row[3])\n",
    "        ana_ck.append(row[2])"
   ]
  },
  {
   "cell_type": "code",
   "execution_count": 49,
   "id": "e025fa3e-747b-4002-b71e-81e052196abc",
   "metadata": {},
   "outputs": [
    {
     "name": "stdout",
     "output_type": "stream",
     "text": [
      "36\n"
     ]
    }
   ],
   "source": [
    "for i in range(36,37):\n",
    "    print(i)"
   ]
  },
  {
   "cell_type": "code",
   "execution_count": 46,
   "id": "2f88f4f0-ce66-4f46-b522-85ec85931295",
   "metadata": {},
   "outputs": [],
   "source": [
    "# up to 36, -18\n",
    "import numpy as np\n",
    "\n",
    "ana_ck_dict = {}\n",
    "num_ck_dict = {}\n",
    "\n",
    "for n in range(36):\n",
    "    ana_ck_m_dict = {}\n",
    "    num_ck_m_dict = {}\n",
    "    \n",
    "    for m in np.arange(-n,n+1,2):\n",
    "        ana_ck_m_dict[m] = 0\n",
    "        num_ck_m_dict[m] = 0\n",
    "    \n",
    "    ana_ck_dict[n] = ana_ck_m_dict\n",
    "    num_ck_dict[n] = num_ck_m_dict"
   ]
  },
  {
   "cell_type": "code",
   "execution_count": 54,
   "id": "d2542f73-cdb1-4487-9def-9806b7026351",
   "metadata": {},
   "outputs": [
    {
     "data": {
      "text/plain": [
       "0.15915494824277174"
      ]
     },
     "execution_count": 54,
     "metadata": {},
     "output_type": "execute_result"
    }
   ],
   "source": [
    "for i in range(len(ck_n) - 10):\n",
    "    n = int(ck_n[i])\n",
    "    m = int(ck_m[i])\n",
    "\n",
    "    ana_ck_dict[n][m] = float(ana_ck[i])\n",
    "    num_ck_dict[n][m] = float(num_ck[i])\n",
    "\n",
    "ana_ck_dict[0][0]"
   ]
  }
 ],
 "metadata": {
  "kernelspec": {
   "display_name": "Python 3 (ipykernel)",
   "language": "python",
   "name": "python3"
  },
  "language_info": {
   "codemirror_mode": {
    "name": "ipython",
    "version": 3
   },
   "file_extension": ".py",
   "mimetype": "text/x-python",
   "name": "python",
   "nbconvert_exporter": "python",
   "pygments_lexer": "ipython3",
   "version": "3.12.2"
  }
 },
 "nbformat": 4,
 "nbformat_minor": 5
}
