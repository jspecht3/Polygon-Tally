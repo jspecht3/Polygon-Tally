{
 "cells": [
  {
   "cell_type": "code",
   "execution_count": 5,
   "id": "aa862db0-3491-4da6-8d64-06ce5ac18daf",
   "metadata": {},
   "outputs": [],
   "source": [
    "from polygon_tally import *\n",
    "import threading"
   ]
  },
  {
   "cell_type": "markdown",
   "id": "9875120d-95bd-4e66-892e-aca7f2f4fd32",
   "metadata": {},
   "source": [
    "## global stuff"
   ]
  },
  {
   "cell_type": "code",
   "execution_count": 14,
   "id": "a2eb93b9-14b9-4e00-9789-384d1f952670",
   "metadata": {},
   "outputs": [],
   "source": [
    "path = \"output/different-polygon-function/\"\n",
    "\n",
    "def write_output(string, file_path):\n",
    "    f = open(file_path, 'a')\n",
    "    f.write(string + '\\n')\n",
    "    f.close()\n",
    "\n",
    "# parameters\n",
    "order = 35\n",
    "radius = 1\n",
    "mesh_size = 5_000\n",
    "side_num = 8\n",
    "\n",
    "#def function(x, y):\n",
    "#    return 10 * y**2 * np.cos(5 * x) - 10 * x * y\n",
    "\n",
    "def function(x, y):\n",
    "    return 10 * x**2 * y - 7 * x * y**2 + 5 * y**4\n",
    "\n",
    "# creating the save path\n",
    "loc_path = path + \"{}sides/\".format(side_num)\n",
    "if not os.path.isdir(loc_path):\n",
    "    os.mkdir(loc_path)\n",
    "    os.mkdir(loc_path + \"z_basis/\")\n",
    "    os.mkdir(loc_path + \"k_basis/\")"
   ]
  },
  {
   "cell_type": "code",
   "execution_count": 15,
   "id": "becd6bc1-1fc5-4104-a195-d30c6e0f9733",
   "metadata": {},
   "outputs": [],
   "source": [
    "def plot_ana():\n",
    "    k1 = ZApprox(side_num, radius, mesh_size)\n",
    "    x, y = k1.x, k1.y\n",
    "    \n",
    "    # analytical\n",
    "    Fa = function(x, y)\n",
    "    bounds = [np.min(Fa), np.max(Fa)]\n",
    "    k1.plotter(Fa, bounds, \"Analytical\", loc_path + \"ana.png\")"
   ]
  },
  {
   "cell_type": "code",
   "execution_count": 7,
   "id": "cf9f33f3-4645-4a72-99c1-89dcd0210cd4",
   "metadata": {},
   "outputs": [],
   "source": [
    "def calc_kbasis():\n",
    "    print(\"K: starting {} sided polygon\".format(side_num))\n",
    "    k1 = ZApprox(side_num, radius, mesh_size)\n",
    "    x, y = k1.x, k1.y\n",
    "    \n",
    "    # analytical\n",
    "    Fa = function(x, y)\n",
    "    bounds = [np.min(Fa), np.max(Fa)]\n",
    "    k1.plotter(Fa, bounds, \"Analytical\", loc_path + \"ana.png\")\n",
    "    \n",
    "    # norms\n",
    "    Fa_l2_norm = la.norm(Fa, 2)\n",
    "    Fa_linf_norm = la.norm(Fa, np.inf)\n",
    "\n",
    "    # approx\n",
    "    Fk = 0\n",
    "    \n",
    "    \n",
    "    for n in range(order + 1):\n",
    "        print(\"K: --- n ---\", n)\n",
    "        for m in np.arange(-n, n + 1, 2):\n",
    "            print(\"K: m\", m)\n",
    "            # k basis\n",
    "            bk = KBasis(n, m, side_num, radius)\n",
    "            bk._gen_all_cd(mesh_size)\n",
    "\n",
    "            # ck\n",
    "            ck = bk.num_ck_nm(mesh_size)\n",
    "            ck_out = (str(n) + \",\" + str(m) + \",\" + str(ck))\n",
    "            write_output(ck_out, loc_path + \"cks.txt\")\n",
    "            \n",
    "            Fk += np.float64(ck * bk.k_nm(x, y))\n",
    "\n",
    "        print(\"K: norms\")\n",
    "        Dk = Fa - Fk\n",
    "        l2_k = la.norm(Dk, 2) / Fa_l2_norm\n",
    "        linf_k = la.norm(Dk, np.inf) / Fa_linf_norm\n",
    "\n",
    "        print(\"K: text out\")\n",
    "        write_output(str(l2_k), loc_path + \"l2k.txt\")\n",
    "        write_output(str(linf_k), loc_path + \"linfk.txt\")\n",
    "\n",
    "        print(\"K: imgs out\")\n",
    "        k1.plotter(Fk, bounds, \"K Order = {}\".format(n), loc_path + \"k_basis/k{}.png\".format(n))"
   ]
  },
  {
   "cell_type": "code",
   "execution_count": 8,
   "id": "0d691e3b-58b7-492a-96d3-92bbbed24d05",
   "metadata": {},
   "outputs": [],
   "source": [
    "def calc_zbasis():\n",
    "    print(\"Z: starting {} sided polygon\".format(side_num))\n",
    "    # setting approximations\n",
    "    z1 = ZApprox(side_num, radius, mesh_size)\n",
    "    x, y = z1.x, z1.y\n",
    "    \n",
    "    # analytical\n",
    "    Fa = function(x, y)\n",
    "    bounds = [np.min(Fa), np.max(Fa)]\n",
    "        \n",
    "    # norms\n",
    "    Fa_l2_norm = la.norm(Fa, 2)\n",
    "    Fa_linf_norm = la.norm(Fa, np.inf)\n",
    "\n",
    "    # approx\n",
    "    Fz = 0\n",
    "\n",
    "    for n in range(order + 1):\n",
    "        print(\"Z: --- n ---\", n)\n",
    "        for m in np.arange(-n, n + 1, 2):\n",
    "            print(\"Z: m\", m)\n",
    "            # z basis\n",
    "            bz = ZBasis(n, m, side_num, radius)\n",
    "            bz._gen_all_cd(mesh_size)\n",
    "\n",
    "            # cz\n",
    "            cz = bz.num_cz_nm(mesh_size)\n",
    "            cz_out = (str(n) + \",\" + str(m) + \",\" + str(cz))\n",
    "            write_output(cz_out, loc_path + \"czs.txt\")\n",
    "            \n",
    "            Fz += np.float64(cz * bz.z_nm(x, y))\n",
    "\n",
    "        print(\"Z: norms\")\n",
    "        Dz = Fa - Fz        \n",
    "        l2_z = la.norm(Dz, 2) / Fa_l2_norm\n",
    "        linf_z = la.norm(Dz, np.inf) / Fa_linf_norm\n",
    "        \n",
    "        print(\"Z: text out\")\n",
    "        write_output(str(l2_z), loc_path + \"l2z.txt\")\n",
    "        write_output(str(linf_z), loc_path + \"linfz.txt\")\n",
    "\n",
    "        print(\"Z: imgs out\")\n",
    "        z1.plotter(Fz, bounds, \"Z Order = {}\".format(n), loc_path + \"z_basis/z{}.png\".format(n))"
   ]
  },
  {
   "cell_type": "code",
   "execution_count": 5,
   "id": "5a1b870c-377d-48f5-9914-f231b0d5632e",
   "metadata": {
    "collapsed": true,
    "jupyter": {
     "outputs_hidden": true
    }
   },
   "outputs": [
    {
     "name": "stdout",
     "output_type": "stream",
     "text": [
      "K: starting 5 sided polygon\n",
      "Z: starting 5 sided polygon\n",
      "K: --- n --- 0\n",
      "K: m 0\n",
      "Z: --- n --- 0\n",
      "Z: m 0\n"
     ]
    },
    {
     "ename": "KeyboardInterrupt",
     "evalue": "",
     "output_type": "error",
     "traceback": [
      "\u001b[0;31m---------------------------------------------------------------------------\u001b[0m",
      "\u001b[0;31mKeyboardInterrupt\u001b[0m                         Traceback (most recent call last)",
      "Cell \u001b[0;32mIn[5], line 8\u001b[0m\n\u001b[1;32m      5\u001b[0m t1\u001b[38;5;241m.\u001b[39mstart()\n\u001b[1;32m      6\u001b[0m t2\u001b[38;5;241m.\u001b[39mstart()\n\u001b[0;32m----> 8\u001b[0m \u001b[43mt1\u001b[49m\u001b[38;5;241;43m.\u001b[39;49m\u001b[43mjoin\u001b[49m\u001b[43m(\u001b[49m\u001b[43m)\u001b[49m\n\u001b[1;32m      9\u001b[0m t2\u001b[38;5;241m.\u001b[39mjoin()\n\u001b[1;32m     11\u001b[0m \u001b[38;5;28mprint\u001b[39m(\u001b[38;5;124m\"\u001b[39m\u001b[38;5;124mDone!\u001b[39m\u001b[38;5;124m\"\u001b[39m)\n",
      "File \u001b[0;32m~/miniconda3/lib/python3.12/threading.py:1147\u001b[0m, in \u001b[0;36mThread.join\u001b[0;34m(self, timeout)\u001b[0m\n\u001b[1;32m   1144\u001b[0m     \u001b[38;5;28;01mraise\u001b[39;00m \u001b[38;5;167;01mRuntimeError\u001b[39;00m(\u001b[38;5;124m\"\u001b[39m\u001b[38;5;124mcannot join current thread\u001b[39m\u001b[38;5;124m\"\u001b[39m)\n\u001b[1;32m   1146\u001b[0m \u001b[38;5;28;01mif\u001b[39;00m timeout \u001b[38;5;129;01mis\u001b[39;00m \u001b[38;5;28;01mNone\u001b[39;00m:\n\u001b[0;32m-> 1147\u001b[0m     \u001b[38;5;28;43mself\u001b[39;49m\u001b[38;5;241;43m.\u001b[39;49m\u001b[43m_wait_for_tstate_lock\u001b[49m\u001b[43m(\u001b[49m\u001b[43m)\u001b[49m\n\u001b[1;32m   1148\u001b[0m \u001b[38;5;28;01melse\u001b[39;00m:\n\u001b[1;32m   1149\u001b[0m     \u001b[38;5;66;03m# the behavior of a negative timeout isn't documented, but\u001b[39;00m\n\u001b[1;32m   1150\u001b[0m     \u001b[38;5;66;03m# historically .join(timeout=x) for x<0 has acted as if timeout=0\u001b[39;00m\n\u001b[1;32m   1151\u001b[0m     \u001b[38;5;28mself\u001b[39m\u001b[38;5;241m.\u001b[39m_wait_for_tstate_lock(timeout\u001b[38;5;241m=\u001b[39m\u001b[38;5;28mmax\u001b[39m(timeout, \u001b[38;5;241m0\u001b[39m))\n",
      "File \u001b[0;32m~/miniconda3/lib/python3.12/threading.py:1167\u001b[0m, in \u001b[0;36mThread._wait_for_tstate_lock\u001b[0;34m(self, block, timeout)\u001b[0m\n\u001b[1;32m   1164\u001b[0m     \u001b[38;5;28;01mreturn\u001b[39;00m\n\u001b[1;32m   1166\u001b[0m \u001b[38;5;28;01mtry\u001b[39;00m:\n\u001b[0;32m-> 1167\u001b[0m     \u001b[38;5;28;01mif\u001b[39;00m \u001b[43mlock\u001b[49m\u001b[38;5;241;43m.\u001b[39;49m\u001b[43macquire\u001b[49m\u001b[43m(\u001b[49m\u001b[43mblock\u001b[49m\u001b[43m,\u001b[49m\u001b[43m \u001b[49m\u001b[43mtimeout\u001b[49m\u001b[43m)\u001b[49m:\n\u001b[1;32m   1168\u001b[0m         lock\u001b[38;5;241m.\u001b[39mrelease()\n\u001b[1;32m   1169\u001b[0m         \u001b[38;5;28mself\u001b[39m\u001b[38;5;241m.\u001b[39m_stop()\n",
      "\u001b[0;31mKeyboardInterrupt\u001b[0m: "
     ]
    }
   ],
   "source": [
    "if __name__ == \"__main__\":\n",
    "    t1 = threading.Thread(target=calc_kbasis)\n",
    "    t2 = threading.Thread(target=calc_zbasis)\n",
    "    t3 = threading.Thread(target=plot_ana)\n",
    "\n",
    "    t1.start()\n",
    "    t2.start()\n",
    "    t3.start()\n",
    "\n",
    "    t1.join()\n",
    "    t2.join()\n",
    "    t3.join()\n",
    "\n",
    "    print(\"Done!\")"
   ]
  }
 ],
 "metadata": {
  "kernelspec": {
   "display_name": "Python 3 (ipykernel)",
   "language": "python",
   "name": "python3"
  },
  "language_info": {
   "codemirror_mode": {
    "name": "ipython",
    "version": 3
   },
   "file_extension": ".py",
   "mimetype": "text/x-python",
   "name": "python",
   "nbconvert_exporter": "python",
   "pygments_lexer": "ipython3",
   "version": "3.12.2"
  }
 },
 "nbformat": 4,
 "nbformat_minor": 5
}
