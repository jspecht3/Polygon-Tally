{
 "cells": [
  {
   "cell_type": "code",
   "execution_count": 1,
   "id": "1be164c4-b8ca-4a9b-bc42-16b64ee5c053",
   "metadata": {},
   "outputs": [],
   "source": [
    "import numpy as np"
   ]
  },
  {
   "cell_type": "code",
   "execution_count": 26,
   "id": "a3d9e1ed-8298-4c7a-a89e-6559e6759178",
   "metadata": {},
   "outputs": [
    {
     "name": "stdout",
     "output_type": "stream",
     "text": [
      "theta: 3.9269908169872414\n",
      "alpha:  0.6283185307179586\n",
      "drop:  3.625\n",
      "int drop:  3\n",
      "u_alpha:  0.15707963267948966\n"
     ]
    }
   ],
   "source": [
    "# parameters\n",
    "num_sides = 5\n",
    "polygon_radius = 10\n",
    "x = -1\n",
    "y = -1\n",
    "\n",
    "theta = np.arctan2(y, x) + 2*np.pi\n",
    "\n",
    "# u_alpha\n",
    "alpha = np.pi / num_sides\n",
    "drop = (theta + alpha) / (2 * alpha)\n",
    "int_drop = drop.astype(int)\n",
    "u_alpha = theta - int_drop * (2 * alpha) \n",
    "\n",
    "print(\"theta:\", theta)\n",
    "print(\"alpha: \", alpha)\n",
    "print(\"drop: \", drop)\n",
    "print(\"int drop: \", int_drop)\n",
    "print(\"u_alpha: \", u_alpha)"
   ]
  },
  {
   "cell_type": "code",
   "execution_count": 24,
   "id": "e86a789b-185b-4883-9c75-78f1b25d9ebb",
   "metadata": {},
   "outputs": [
    {
     "name": "stdout",
     "output_type": "stream",
     "text": [
      "top:  8.090169943749475\n",
      "bot:  0.9876883405951378\n",
      "r_alpha:  8.191014929744632\n"
     ]
    }
   ],
   "source": [
    "# r_alpha\n",
    "numerator = polygon_radius * np.cos(alpha)\n",
    "denominator = np.cos(u_alpha)\n",
    "\n",
    "variable_radius = numerator / denominator\n",
    "\n",
    "print(\"top: \", numerator)\n",
    "print(\"bot: \", denominator)\n",
    "print(\"r_alpha: \", variable_radius)"
   ]
  },
  {
   "cell_type": "code",
   "execution_count": null,
   "id": "af6625ff-9b5f-4aed-a8d4-5cc1bcd2ed47",
   "metadata": {},
   "outputs": [],
   "source": [
    "double drop = (theta + alpha) / (2 * alpha);\n",
    "int int_drop = drop;\n",
    "double u_alpha;\n",
    "u_alpha = theta - int_drop * 2 * alpha;\n",
    "\n",
    "std::cout << \"----- U Alpha Calcs -----\" << std::endl;\n",
    "std::cout << \"alpha: \" << alpha << std::endl;\n",
    "std::cout << \"drop: \" << drop << std::endl;\n",
    "std::cout << \"int drop: \" << int_drop << std::endl;\n",
    "std::cout << \"u alpha\" << u_alpha << std::endl;"
   ]
  }
 ],
 "metadata": {
  "kernelspec": {
   "display_name": "Python 3 (ipykernel)",
   "language": "python",
   "name": "python3"
  },
  "language_info": {
   "codemirror_mode": {
    "name": "ipython",
    "version": 3
   },
   "file_extension": ".py",
   "mimetype": "text/x-python",
   "name": "python",
   "nbconvert_exporter": "python",
   "pygments_lexer": "ipython3",
   "version": "3.12.2"
  }
 },
 "nbformat": 4,
 "nbformat_minor": 5
}
