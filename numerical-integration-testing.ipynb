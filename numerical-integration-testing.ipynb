{
 "cells": [
  {
   "cell_type": "code",
   "execution_count": 1,
   "id": "ac83adac-7ca8-43b3-afd9-0716c4469479",
   "metadata": {},
   "outputs": [
    {
     "name": "stdout",
     "output_type": "stream",
     "text": [
      "Starting the import process.\n",
      "Successfully Imported 'zernike_like'\n",
      "Successfully Imported 'aggregate'\n"
     ]
    }
   ],
   "source": [
    "from polygon_tally import *"
   ]
  },
  {
   "cell_type": "code",
   "execution_count": 4,
   "id": "86ebc675-cf94-4c05-9d6d-ff09324c4d3f",
   "metadata": {},
   "outputs": [],
   "source": [
    "mesh_size = 1000\n",
    "k1 = KBasis(1,-1,4,1)\n",
    "k1._gen_all_cd(mesh_size)"
   ]
  },
  {
   "cell_type": "code",
   "execution_count": 8,
   "id": "26a8375c-776b-41de-957d-77c84c72eb7c",
   "metadata": {},
   "outputs": [
    {
     "data": {
      "text/plain": [
       "(2.0402207686905656, 2.036085933711458)"
      ]
     },
     "execution_count": 8,
     "metadata": {},
     "output_type": "execute_result"
    }
   ],
   "source": [
    "ck_sci = k1.ana_ck_nm()\n",
    "ck_num = k1.num_ck_nm(mesh_size)\n",
    "\n",
    "ck_num, ck_sci"
   ]
  },
  {
   "cell_type": "code",
   "execution_count": 10,
   "id": "c7b18403-1856-4098-a7b8-9a33dd2e8282",
   "metadata": {},
   "outputs": [
    {
     "data": {
      "text/plain": [
       "2.0402207686905656"
      ]
     },
     "execution_count": 10,
     "metadata": {},
     "output_type": "execute_result"
    }
   ],
   "source": [
    "k1.ck"
   ]
  },
  {
   "cell_type": "markdown",
   "id": "bc95e142-187c-4518-a107-a6aea7caf7d2",
   "metadata": {},
   "source": [
    "- k_nm(x,y), so need to start with rho, phi and go to x,y\n",
    "\n",
    "- start with rho, phi of mesh_size\n",
    "- go to x,y\n",
    "- find values of k_nm at each x,y\n",
    "- use these values and integrate over the unit circle"
   ]
  },
  {
   "cell_type": "markdown",
   "id": "0b4d4e39-f091-4fe2-8abd-1c46d6f947f3",
   "metadata": {},
   "source": [
    "### hide"
   ]
  },
  {
   "cell_type": "code",
   "execution_count": 11,
   "id": "2b7edbdb-86e4-45fe-b6f0-95dfeb011ce6",
   "metadata": {},
   "outputs": [
    {
     "data": {
      "text/plain": [
       "(2.0774497138918075, 2.036085933711458)"
      ]
     },
     "execution_count": 11,
     "metadata": {},
     "output_type": "execute_result"
    }
   ],
   "source": [
    "dmu = k1._rho * k1._drho * k1._dphi / np.pi\n",
    "\n",
    "f1 = base_input(k1._x, k1._y)\n",
    "kv = k1.k_nm(k1._x, k1._y)\n",
    "\n",
    "np.sum(dmu * f1 * kv), ck_sci"
   ]
  },
  {
   "cell_type": "code",
   "execution_count": 82,
   "id": "f65c4037-8cc2-4cf1-8dbc-55dab1e3a4f4",
   "metadata": {
    "collapsed": true,
    "jupyter": {
     "outputs_hidden": true,
     "source_hidden": true
    }
   },
   "outputs": [
    {
     "data": {
      "text/plain": [
       "(0.0, 0.0)"
      ]
     },
     "execution_count": 82,
     "metadata": {},
     "output_type": "execute_result"
    }
   ],
   "source": [
    "# coordinates not matching up grrrr \n",
    "rhok = k1._rho\n",
    "rhophi = k1._phi\n",
    "\n",
    "uk = rhok * np.cos(rhophi)\n",
    "vk = rhok * np.sin(rhophi)\n",
    "\n",
    "xk = k1._x\n",
    "yk = k1._y\n",
    "\n",
    "\"\"\"\n",
    "fig, ax = plt.subplots()\n",
    "ax.contourf(xk, yk, xk*0)\n",
    "ax.set_xlim(-1.1,1.1)\n",
    "ax.set_ylim(-1.1,1.1)\n",
    "\"\"\"\n",
    "\n",
    "np.sum(rhok - rho), np.sum(uk - u)"
   ]
  },
  {
   "cell_type": "code",
   "execution_count": 5,
   "id": "7ca4634f-30f6-4cd6-a766-849ffc0cf32f",
   "metadata": {
    "jupyter": {
     "source_hidden": true
    }
   },
   "outputs": [],
   "source": [
    "# transform functions\n",
    "def gen_rhophi(size):\n",
    "    rho = np.linspace(0, 1, size)\n",
    "    phi = np.linspace(0, 2 * np.pi, size)\n",
    "    rho, phi = np.meshgrid(rho, phi)\n",
    "    return rho, phi\n",
    "\n",
    "def gen_uv(size):\n",
    "    rho, phi = gen_rhophi(size)\n",
    "    u = rho * np.cos(phi)\n",
    "    v = rho * np.sin(phi)\n",
    "    return u, v\n",
    "\n",
    "def gen_rtheta(p, R0, size):\n",
    "    \"\"\"This one will just take self in the function, consider making the meshsize a parameter\n",
    "    if there is no mesh_size, have it tell you that you need one\n",
    "    you will want to use the same mesh_size for all of the numerical integration schemes\n",
    "    \"\"\"\n",
    "    rho, phi = gen_rhophi(size)\n",
    "    R = k1.variable_radius_theta(phi)\n",
    "    r = rho * R\n",
    "    return r, phi\n",
    "\n",
    "def gen_xy(p, R0, size):\n",
    "    r, theta = gen_rtheta(p, R0, size)\n",
    "    x = r * np.cos(theta)\n",
    "    y = r * np.sin(theta)\n",
    "    return x, y\n",
    "\n",
    "def pds_polygon(p, R0, size):\n",
    "    r, theta = gen_rtheta(p, R0, size)\n",
    "    dr = r[:,1]\n",
    "    _, dr = np.meshgrid(dr, dr)\n",
    "    dtheta = theta[1,1]\n",
    "    return dr, dtheta\n",
    "\n",
    "def pds_disk(size):\n",
    "    rho, phi = gen_rhophi(size)\n",
    "    drho = rho[:,1]\n",
    "    _, drho = np.meshgrid(drho, drho)\n",
    "    dphi = phi[1,1]\n",
    "    return drho, dphi"
   ]
  },
  {
   "cell_type": "code",
   "execution_count": 7,
   "id": "a13616a9-505d-44e8-9ae6-fae8606fba91",
   "metadata": {
    "jupyter": {
     "source_hidden": true
    }
   },
   "outputs": [
    {
     "name": "stdout",
     "output_type": "stream",
     "text": [
      "rho,phi: 0.0 0.0\n",
      "u,v: 0.0 0.0\n",
      "r,theta: 0.0 0.0\n",
      "x,y: 0.0 0.0\n"
     ]
    }
   ],
   "source": [
    "# checking if the coordinates are the same\n",
    "k1 = KBasis(0,0,4,1)\n",
    "k1._gen_all_cd(mesh_size)\n",
    "\n",
    "# rho,phi\n",
    "rhok = k1._rho\n",
    "phik = k1._phi\n",
    "rho,phi = gen_rhophi(mesh_size)\n",
    "print(\"rho,phi:\", np.sum(rhok - rho), np.sum(phik - phi))\n",
    "\n",
    "# u,v\n",
    "uk = k1._u\n",
    "vk = k1._v\n",
    "u,v = gen_uv(mesh_size)\n",
    "print(\"u,v:\", np.sum(uk - u), np.sum(vk - v))\n",
    "\n",
    "# r,theta\n",
    "rk = k1._r\n",
    "thetak = k1._theta\n",
    "r,theta = gen_rtheta(4, 1, mesh_size)\n",
    "print(\"r,theta:\", np.sum(rk - r), np.sum(thetak - theta))\n",
    "\n",
    "# x,y\n",
    "xk = k1._x\n",
    "yk = k1._y\n",
    "x,y = gen_xy(4,1,mesh_size)\n",
    "print(\"x,y:\", np.sum(xk - x), np.sum(yk - y))"
   ]
  },
  {
   "cell_type": "code",
   "execution_count": 84,
   "id": "a5fd9b79-63f0-4bab-9c77-ea5b0503a1a2",
   "metadata": {},
   "outputs": [
    {
     "data": {
      "text/plain": [
       "(2.0774497138918075, 2.036085933711458)"
      ]
     },
     "execution_count": 84,
     "metadata": {},
     "output_type": "execute_result"
    }
   ],
   "source": [
    "p = 4\n",
    "R0 = 1\n",
    "\n",
    "# coords\n",
    "rho, phi = gen_rhophi(mesh_size)\n",
    "x,y = gen_xy(p, R0, mesh_size)\n",
    "\n",
    "# differentials\n",
    "drho, dphi = pds_disk(mesh_size)\n",
    "dmu = rho * drho * dphi / np.pi\n",
    "\n",
    "# functions\n",
    "f = base_input(x,y)\n",
    "k = k1.k_nm(x,y)\n",
    "\n",
    "# integral\n",
    "np.sum(dmu * f * k), ck_sci"
   ]
  },
  {
   "cell_type": "code",
   "execution_count": 33,
   "id": "639e43b8-684a-454a-bc42-dec16c23294b",
   "metadata": {
    "collapsed": true,
    "jupyter": {
     "outputs_hidden": true,
     "source_hidden": true
    }
   },
   "outputs": [
    {
     "data": {
      "text/plain": [
       "False"
      ]
     },
     "execution_count": 33,
     "metadata": {},
     "output_type": "execute_result"
    }
   ],
   "source": [
    "# testing with hasattr\n",
    "class Testing():\n",
    "    def test(self):\n",
    "        self.x = 1\n",
    "\n",
    "a = Testing()\n",
    "\n",
    "hasattr(a, \"y\")"
   ]
  }
 ],
 "metadata": {
  "kernelspec": {
   "display_name": "Python 3 (ipykernel)",
   "language": "python",
   "name": "python3"
  },
  "language_info": {
   "codemirror_mode": {
    "name": "ipython",
    "version": 3
   },
   "file_extension": ".py",
   "mimetype": "text/x-python",
   "name": "python",
   "nbconvert_exporter": "python",
   "pygments_lexer": "ipython3",
   "version": "3.12.2"
  }
 },
 "nbformat": 4,
 "nbformat_minor": 5
}
