{
 "cells": [
  {
   "cell_type": "code",
   "execution_count": 58,
   "id": "2467c6aa-c36f-4b2e-a7cb-958fca8f5f3e",
   "metadata": {},
   "outputs": [],
   "source": [
    "import csv\n",
    "import matplotlib.animation as animation\n",
    "import matplotlib.pyplot as plt\n",
    "import matplotlib.patches as mp\n",
    "import numpy as np\n",
    "import os\n",
    "from PIL import Image\n",
    "\n",
    "plt.rcParams.update({\n",
    "    #\"font.family\": \"serif\",\n",
    "    \"font.serif\": [\"Computer Modern Roman\"],\n",
    "    \"font.size\": 5,\n",
    "})"
   ]
  },
  {
   "cell_type": "markdown",
   "id": "4fb042bf-752a-4b9c-a0dd-0f4f91893253",
   "metadata": {},
   "source": [
    "# individual gifs"
   ]
  },
  {
   "cell_type": "code",
   "execution_count": 59,
   "id": "92658030-a36d-4ccf-a202-b201f78965c3",
   "metadata": {},
   "outputs": [],
   "source": [
    "# getting the images\n",
    "def basis_paths(sides, basis):\n",
    "    return [f\"./data/{sides}sides/{basis}_basis/{basis}{i}.png\" for i in range(36)]\n",
    "\n",
    "\n",
    "def err_paths(sides, err_type):\n",
    "    return [f\"./data/{sides}sides/err_{err_type}/{err_type}_{i}.png\" for i in range(36)]\n",
    "\n",
    "\n",
    "def get_imgs(sides):\n",
    "    kpaths = basis_paths(sides, \"k\")\n",
    "    zpaths = basis_paths(sides, \"z\")\n",
    "\n",
    "    l2paths = err_paths(sides, \"l2\")\n",
    "    linfpaths = err_paths(sides, \"linf\")\n",
    "\n",
    "    kimgs = [Image.open(path) for path in kpaths]\n",
    "    zimgs = [Image.open(path) for path in zpaths]\n",
    "\n",
    "    l2imgs = [Image.open(path) for path in l2paths]\n",
    "    linfimgs = [Image.open(path) for path in linfpaths]\n",
    "\n",
    "    return kimgs, zimgs, l2imgs, linfimgs\n",
    "\n",
    "\n",
    "def save_gif(imgs, sides, name):\n",
    "    # color params\n",
    "    color = ''\n",
    "    if name == \"K\":\n",
    "        color = 'b'\n",
    "    if name == \"Z\":\n",
    "        color == 'r'\n",
    "    \n",
    "    plt.rcParams.update({\n",
    "            \"font.serif\": [\"Computer Modern Roman\"],\n",
    "            \"font.size\": 9,\n",
    "        })\n",
    "    \n",
    "    fig, ax = plt.subplots(figsize=(6,6))\n",
    "    im = ax.imshow(imgs[0], animated=True)\n",
    "    \n",
    "    if color:\n",
    "        ax.set_title(f\"{name} Basis, n = {0}\", y=0.9, color=color)\n",
    "    \n",
    "    ax.xaxis.set_visible(False)\n",
    "    ax.yaxis.set_visible(False)\n",
    "    ax.spines[['top', 'bottom', 'right', 'left']].set_visible(False)\n",
    "    \n",
    "    \n",
    "    def update(order):\n",
    "        im.set_array(imgs[order])\n",
    "        ax.set_title(f\"K Basis, n = {order}\", y=0.9, color='b')\n",
    "        return im,\n",
    "    \n",
    "    \n",
    "    animation_fig = animation.FuncAnimation(\n",
    "        fig,\n",
    "        update,\n",
    "        frames=len(imgs),\n",
    "        interval=200,\n",
    "        blit=True,\n",
    "        repeat_delay=2000,\n",
    "    )\n",
    "\n",
    "    savepath = f\"gifs/{sides}sides_{name.lower()}.gif\"\n",
    "    animation_fig.save(savepath, dpi=600)\n",
    "    print(f\"Finished saving {savepath}\")\n",
    "    plt.close()\n",
    "    return\n",
    "\n",
    "\n",
    "def make_gifs(sides):\n",
    "    print(\"----- Making Gifs -----\")\n",
    "    imgs_list = get_imgs(sides)\n",
    "    names = [\"K\", \"Z\", \"L2\", \"Linf\"]\n",
    "\n",
    "    for imgs, name in zip(imgs_list, names):\n",
    "        print(f\"Starting {sides} sides {name} gif\")\n",
    "        save_gif(imgs, sides, name)\n",
    "\n",
    "    print(\"----- Completed Making Gifs -----\")\n",
    "    return\n",
    "\n",
    "# make sure to NOT use make_gifs\n",
    "# your laptop does not have enough ram to make them all at once ;-;\n",
    "# stack more paper lil bro"
   ]
  },
  {
   "cell_type": "code",
   "execution_count": 62,
   "id": "f7bc522f-1fbe-4899-8aa4-6ea264555f80",
   "metadata": {},
   "outputs": [
    {
     "name": "stdout",
     "output_type": "stream",
     "text": [
      "Starting 3 sides\n"
     ]
    },
    {
     "name": "stderr",
     "output_type": "stream",
     "text": [
      "MovieWriter ffmpeg unavailable; using Pillow instead.\n"
     ]
    },
    {
     "name": "stdout",
     "output_type": "stream",
     "text": [
      "Finished saving gifs/3sides_linf.gif\n",
      "Starting 5 sides\n"
     ]
    },
    {
     "name": "stderr",
     "output_type": "stream",
     "text": [
      "MovieWriter ffmpeg unavailable; using Pillow instead.\n"
     ]
    },
    {
     "name": "stdout",
     "output_type": "stream",
     "text": [
      "Finished saving gifs/5sides_linf.gif\n",
      "Starting 8 sides\n"
     ]
    },
    {
     "name": "stderr",
     "output_type": "stream",
     "text": [
      "MovieWriter ffmpeg unavailable; using Pillow instead.\n"
     ]
    },
    {
     "name": "stdout",
     "output_type": "stream",
     "text": [
      "Finished saving gifs/8sides_linf.gif\n",
      "Starting 20 sides\n"
     ]
    },
    {
     "name": "stderr",
     "output_type": "stream",
     "text": [
      "MovieWriter ffmpeg unavailable; using Pillow instead.\n"
     ]
    },
    {
     "name": "stdout",
     "output_type": "stream",
     "text": [
      "Finished saving gifs/20sides_linf.gif\n"
     ]
    }
   ],
   "source": [
    "# make each Linf\n",
    "sides_list = [3, 5, 8, 20]\n",
    "\n",
    "# make each L2\n",
    "for sides in sides_list:\n",
    "    imgs_list = get_imgs(sides)\n",
    "\n",
    "    print(f\"Starting {sides} sides\")\n",
    "    save_gif(imgs_list[3], sides, \"Linf\")"
   ]
  },
  {
   "cell_type": "markdown",
   "id": "ebf03a25-e835-4cf6-9b37-e5a466478d81",
   "metadata": {},
   "source": [
    "# cool zernike polynomials"
   ]
  },
  {
   "cell_type": "markdown",
   "id": "19638690-b1a5-464a-8170-bcb0e863cb8f",
   "metadata": {},
   "source": [
    "# cool zernike polynomials on polygons"
   ]
  },
  {
   "cell_type": "markdown",
   "id": "478f062a-76a4-4d63-9426-a98399cf51cc",
   "metadata": {},
   "source": [
    "# error plots"
   ]
  },
  {
   "cell_type": "markdown",
   "id": "050da433-ac70-471f-bdfe-5f5eac58ce31",
   "metadata": {},
   "source": [
    "kerr, zerr = read_errs(20, \"l2\")\n",
    "\n",
    "for i in [1, 36]:\n",
    "    order = i - 1\n",
    "\n",
    "    if order == 0:\n",
    "        plt.xticks(ticks=0.02 * np.arange(-2, 3), labels=['', '', '0', '', ''])\n",
    "        plt.yscale(\"log\")\n",
    "\n",
    "    if order != 0:\n",
    "        plt.semilogy(kerr[:i], color=\"b\")\n",
    "        plt.semilogy(zerr[:i], color=\"r\")\n",
    "\n",
    "    if order < 7:\n",
    "        plt.ylim(kerr[order], 1.1)\n",
    "        plt.yticks(ticks=[10**0, 10**-1])\n",
    "    \n",
    "    if order < 10:\n",
    "        orders = np.arange(0, i)\n",
    "        plt.xticks(ticks=orders)\n",
    "    \n",
    "    plt.ylabel(\"log of Relative (L$^2$) Error\")\n",
    "    plt.xlabel(\"Zernike Radial Order\")\n",
    "    \n",
    "    plt.grid(True, which=\"both\")\n",
    "\n",
    "    plt.scatter(order, kerr[order], label=\"K Basis\", color=\"b\")\n",
    "    plt.scatter(order, zerr[order], label=\"Z Basis\", color=\"r\")\n",
    "    plt.legend(loc=3)\n",
    "\n",
    "    plt.show()"
   ]
  },
  {
   "cell_type": "code",
   "execution_count": 56,
   "id": "3d282ca0-fda9-41a2-a3d8-d46bc51b9cce",
   "metadata": {},
   "outputs": [],
   "source": [
    "def read_errs(sides, err_type):\n",
    "    err_files = [f\"data/{sides}sides/{err_type}{basis}.txt\" for basis in [\"k\", \"z\"]]\n",
    "\n",
    "    kerr = []\n",
    "    zerr = []\n",
    "\n",
    "    for i, err in enumerate([kerr, zerr]):\n",
    "        with open(err_files[i], \"r\") as file:\n",
    "            for row in csv.reader(file):\n",
    "                err.append(float(row[0]))\n",
    "\n",
    "    return kerr, zerr\n",
    "\n",
    "\n",
    "def check_dir(sides, err_type):\n",
    "    save_dir = f\"data/{sides}sides/err_{err_type}/\"\n",
    "    if not os.path.isdir(save_dir):\n",
    "        os.mkdir(save_dir)\n",
    "    return save_dir\n",
    "\n",
    "\n",
    "def save_err_plots(sides, err_type):\n",
    "    kerr, zerr = read_errs(sides, err_type)\n",
    "    \n",
    "    for i in range(1, 37):\n",
    "        order = i - 1\n",
    "    \n",
    "        if order == 0:\n",
    "            plt.xticks(ticks=0.02 * np.arange(-2, 3), labels=['', '', '0', '', ''])\n",
    "            plt.yscale(\"log\")\n",
    "    \n",
    "        if order != 0:\n",
    "            plt.semilogy(kerr[:i], color=\"b\")\n",
    "            plt.semilogy(zerr[:i], color=\"r\")\n",
    "\n",
    "        if order < 7:\n",
    "            plt.ylim(kerr[order], 1.1)\n",
    "            plt.yticks(ticks=[10**0, 10**-1])\n",
    "        \n",
    "        if order < 10:\n",
    "            orders = np.arange(0, i)\n",
    "            plt.xticks(ticks=orders)\n",
    "        \n",
    "        plt.ylabel(\"log of Relative (L$^2$) Error\")\n",
    "        plt.xlabel(\"Zernike Radial Order\")\n",
    "        \n",
    "        plt.grid(True, which=\"both\")\n",
    "\n",
    "        plt.scatter(order, kerr[order], label=\"K Basis\", color=\"b\")\n",
    "        plt.scatter(order, zerr[order], label=\"Z Basis\", color=\"r\")\n",
    "        plt.legend(loc=3)\n",
    "\n",
    "        save_path = f\"data/{sides}sides/err_{err_type}/{err_type}_{order}.png\"\n",
    "        plt.savefig(save_path, dpi=600)\n",
    "        plt.close()\n",
    "    return\n",
    "\n",
    "\n",
    "def err_plots(sides, err_type):\n",
    "    plt.rcParams.update({\n",
    "        \"font.serif\": [\"Computer Modern Roman\"],\n",
    "        \"font.size\": 10,\n",
    "    })\n",
    "\n",
    "    save_dir = check_dir(sides, err_type)\n",
    "    print(f\"Saving to {save_dir}\")\n",
    "\n",
    "    save_err_plots(sides, err_type)\n",
    "\n",
    "    print(f\"Saved {sides} sides, {err_type} error\")\n",
    "    return"
   ]
  },
  {
   "cell_type": "code",
   "execution_count": 57,
   "id": "29eba4df-c753-4b71-8f19-12ff07d0a43a",
   "metadata": {},
   "outputs": [
    {
     "name": "stdout",
     "output_type": "stream",
     "text": [
      "Saving to data/3sides/err_l2/\n",
      "Saved 3 sides, l2 error\n",
      "Saving to data/5sides/err_l2/\n",
      "Saved 5 sides, l2 error\n",
      "Saving to data/8sides/err_l2/\n",
      "Saved 8 sides, l2 error\n",
      "Saving to data/20sides/err_l2/\n",
      "Saved 20 sides, l2 error\n",
      "Saving to data/3sides/err_linf/\n",
      "Saved 3 sides, linf error\n",
      "Saving to data/5sides/err_linf/\n",
      "Saved 5 sides, linf error\n",
      "Saving to data/8sides/err_linf/\n",
      "Saved 8 sides, linf error\n",
      "Saving to data/20sides/err_linf/\n",
      "Saved 20 sides, linf error\n"
     ]
    }
   ],
   "source": [
    "def save_all_errs():\n",
    "    for err_type in [\"l2\", \"linf\"]:\n",
    "        for sides in [3, 5, 8, 20]:\n",
    "            err_plots(sides, err_type)\n",
    "\n",
    "save_all_errs()"
   ]
  },
  {
   "cell_type": "markdown",
   "id": "2b432b9e-78e3-4f83-9ece-21f2d360249e",
   "metadata": {
    "jp-MarkdownHeadingCollapsed": true
   },
   "source": [
    "# plotting R$_\\alpha$"
   ]
  },
  {
   "cell_type": "code",
   "execution_count": null,
   "id": "ad283d26-4809-4e5f-b008-4aa71658151b",
   "metadata": {},
   "outputs": [],
   "source": [
    "num_sides = 4\n",
    "r0 = 1\n",
    "alpha = np.pi / num_sides\n",
    "\n",
    "def r_alpha(theta):\n",
    "    sector = np.array((theta + alpha) / (2 * alpha), dtype=int)\n",
    "    u_alpha = (theta - sector * 2 * alpha)\n",
    "    return r0 * np.cos(alpha) / np.cos(u_alpha)\n",
    "\n",
    "thetas = np.linspace(-alpha, 2 * np.pi - alpha, 1000)\n",
    "rs = r_alpha(thetas)\n",
    "\n",
    "\n",
    "# plotting\n",
    "# gloop =  4 * 1.5\n",
    "plt.figure(figsize=(7.5, 3))\n",
    "plt.plot(thetas, rs, label=r\"$R_{\\alpha}$\", c='r')\n",
    "plt.xticks(\n",
    "    ticks=np.pi * np.array([-1/4, 0, 1/4, 1/2, 1, 3/2, 7/4]),\n",
    "    labels=[r\"-$\\pi$/4\", r\"0\", r\"$\\pi$/4\", r\"$\\pi$/2\", r\"$\\pi$\", r\"3$\\pi$/2\", r\"7$\\pi$/4\"]\n",
    ")\n",
    "\n",
    "# filling\n",
    "glip = np.linspace(-alpha, alpha, 250)\n",
    "glop = r_alpha(glip)\n",
    "\n",
    "plt.fill_between(\n",
    "    x=glip,\n",
    "    y1=0,\n",
    "    y2=glop,\n",
    "    color='green',\n",
    "    alpha=0.65,\n",
    "    label=\"First Sector\"\n",
    ")\n",
    "\n",
    "plt.ylim(0, 1.1)\n",
    "#plt.xlim(-alpha - 0.2, 1.5 * alpha)\n",
    "plt.grid(which=\"both\")\n",
    "plt.legend()\n",
    "\n",
    "plt.xlabel(r\"Polar Angle, $\\theta$\")\n",
    "plt.ylabel(r\"Outer Radius, $R_\\alpha$\")\n",
    "\n",
    "plt.gcf().subplots_adjust(bottom=0.3)\n",
    "plt.savefig('presentations/square-ralpha.png', dpi=600)\n",
    "plt.show()"
   ]
  },
  {
   "cell_type": "code",
   "execution_count": null,
   "id": "f4a81e63-886f-4f65-ac4e-f2133558cfc7",
   "metadata": {},
   "outputs": [],
   "source": [
    "fig, ax = plt.subplots()\n",
    "plt.gca().set_aspect('equal')"
   ]
  },
  {
   "cell_type": "markdown",
   "id": "16b22ecf-42e4-467b-9ca5-8d46fdd77e15",
   "metadata": {
    "jp-MarkdownHeadingCollapsed": true
   },
   "source": [
    "# trying to make all gifs together"
   ]
  },
  {
   "cell_type": "code",
   "execution_count": 3,
   "id": "1f7fa7af-1bec-47ed-bf44-a622c55f7fb2",
   "metadata": {},
   "outputs": [],
   "source": [
    "# getting the images\n",
    "def basis_paths(sides, basis):\n",
    "    return [f\"./data/{sides}sides/{basis}_basis/{basis}{i}.png\" for i in range(36)]\n",
    "\n",
    "\n",
    "def err_paths(sides, err_type):\n",
    "    return [f\"./data/{sides}sides/err_{err_type}/{err_type}_{i}.png\" for i in range(36)]\n",
    "\n",
    "\n",
    "def imgs(sides):\n",
    "    kpaths = basis_paths(sides, \"k\")\n",
    "    zpaths = basis_paths(sides, \"z\")\n",
    "\n",
    "    l2paths = err_paths(sides, \"l2\")\n",
    "    linfpaths = err_paths(sides, \"linf\")\n",
    "\n",
    "    kimgs = [Image.open(path) for path in kpaths]\n",
    "    zimgs = [Image.open(path) for path in zpaths]\n",
    "\n",
    "    l2imgs = [Image.open(path) for path in l2paths]\n",
    "    linfimgs = [Image.open(path) for path in linfpaths]\n",
    "\n",
    "    return kimgs, zimgs, l2imgs, linfimgs\n",
    "\n",
    "\n",
    "sides = 3\n",
    "kimgs, zimgs, l2imgs, linfimgs = imgs(sides)"
   ]
  },
  {
   "cell_type": "code",
   "execution_count": 2,
   "id": "4581264d-5a67-40d0-8317-4ce21cbd832d",
   "metadata": {},
   "outputs": [
    {
     "ename": "NameError",
     "evalue": "name 'kimgs' is not defined",
     "output_type": "error",
     "traceback": [
      "\u001b[0;31m---------------------------------------------------------------------------\u001b[0m",
      "\u001b[0;31mNameError\u001b[0m                                 Traceback (most recent call last)",
      "Cell \u001b[0;32mIn[2], line 35\u001b[0m\n\u001b[1;32m     32\u001b[0m ax[\u001b[38;5;241m0\u001b[39m,\u001b[38;5;241m0\u001b[39m]\u001b[38;5;241m.\u001b[39mset_title(\u001b[38;5;124mf\u001b[39m\u001b[38;5;124m\"\u001b[39m\u001b[38;5;124mK Basis, n = \u001b[39m\u001b[38;5;132;01m{\u001b[39;00morder\u001b[38;5;132;01m}\u001b[39;00m\u001b[38;5;124m\"\u001b[39m, y\u001b[38;5;241m=\u001b[39m\u001b[38;5;241m0.9\u001b[39m)\n\u001b[1;32m     33\u001b[0m ax[\u001b[38;5;241m0\u001b[39m,\u001b[38;5;241m1\u001b[39m]\u001b[38;5;241m.\u001b[39mset_title(\u001b[38;5;124mf\u001b[39m\u001b[38;5;124m\"\u001b[39m\u001b[38;5;124mZ Basis, n = \u001b[39m\u001b[38;5;132;01m{\u001b[39;00morder\u001b[38;5;132;01m}\u001b[39;00m\u001b[38;5;124m\"\u001b[39m, y\u001b[38;5;241m=\u001b[39m\u001b[38;5;241m0.9\u001b[39m)\n\u001b[0;32m---> 35\u001b[0m imk \u001b[38;5;241m=\u001b[39m ax[\u001b[38;5;241m0\u001b[39m,\u001b[38;5;241m0\u001b[39m]\u001b[38;5;241m.\u001b[39mimshow(\u001b[43mkimgs\u001b[49m[order], animated\u001b[38;5;241m=\u001b[39m\u001b[38;5;28;01mTrue\u001b[39;00m)\n\u001b[1;32m     36\u001b[0m imz \u001b[38;5;241m=\u001b[39m ax[\u001b[38;5;241m0\u001b[39m,\u001b[38;5;241m1\u001b[39m]\u001b[38;5;241m.\u001b[39mimshow(zimgs[order], animated\u001b[38;5;241m=\u001b[39m\u001b[38;5;28;01mTrue\u001b[39;00m)\n\u001b[1;32m     37\u001b[0m \u001b[38;5;66;03m#iml2 = ax[1,1].imshow(l2imgs[order], animated=True, colspan=2)\u001b[39;00m\n\u001b[1;32m     38\u001b[0m \u001b[38;5;66;03m#iml2 = ax[1,1].imshow(linfimgs[order], animated=True)\u001b[39;00m\n",
      "\u001b[0;31mNameError\u001b[0m: name 'kimgs' is not defined"
     ]
    },
    {
     "data": {
      "image/png": "[encoded data removed]",
      "text/plain": [
       "<Figure size 600x600 with 4 Axes>"
      ]
     },
     "metadata": {},
     "output_type": "display_data"
    }
   ],
   "source": [
    "plt.rcParams.update({\n",
    "        \"font.serif\": [\"Computer Modern Roman\"],\n",
    "        \"font.size\": 5,\n",
    "    })\n",
    "\n",
    "# making the plots\n",
    "fig, ax = plt.subplots(\n",
    "    nrows=2,\n",
    "    ncols=2,\n",
    "    figsize=(6,6),\n",
    ")\n",
    "\n",
    "plt.subplots_adjust(\n",
    "#    left=0.125,\n",
    "#    right=0.9,\n",
    "#    bottom=.5,\n",
    "#    top=0.9,\n",
    "    wspace=-0.105,\n",
    "    hspace=-0.225\n",
    ")\n",
    "\n",
    "#\"\"\"\n",
    "for row in [0, 1]:\n",
    "    for col in [0, 1]:\n",
    "        ax[row,col].xaxis.set_visible(False)\n",
    "        ax[row,col].yaxis.set_visible(False)\n",
    "        ax[row,col].spines[['top', 'bottom', 'right', 'left']].set_visible(False)\n",
    "#\"\"\"\n",
    "\n",
    "order = 35\n",
    "\n",
    "ax[0,0].set_title(f\"K Basis, n = {order}\", y=0.9)\n",
    "ax[0,1].set_title(f\"Z Basis, n = {order}\", y=0.9)\n",
    "\n",
    "imk = ax[0,0].imshow(kimgs[order], animated=True)\n",
    "imz = ax[0,1].imshow(zimgs[order], animated=True)\n",
    "#iml2 = ax[1,1].imshow(l2imgs[order], animated=True, colspan=2)\n",
    "#iml2 = ax[1,1].imshow(linfimgs[order], animated=True)"
   ]
  },
  {
   "cell_type": "code",
   "execution_count": 4,
   "id": "0d7dfe86-df6a-4cf8-bbdd-7eb075da1f4f",
   "metadata": {},
   "outputs": [
    {
     "data": {
      "image/png": "[encoded data removed]",
      "text/plain": [
       "<Figure size 1000x1000 with 3 Axes>"
      ]
     },
     "metadata": {},
     "output_type": "display_data"
    }
   ],
   "source": [
    "plt.rcParams.update({\n",
    "    \"font.serif\": [\"Computer Modern Roman\"],\n",
    "    \"font.size\": 5,\n",
    "})\n",
    "\n",
    "# making the plots\n",
    "fig = plt.figure(figsize=(10,10))\n",
    "\n",
    "axk = plt.subplot2grid((3, 3), (0, 0))\n",
    "axz = plt.subplot2grid((3, 3), (0, 1))\n",
    "axe = plt.subplot2grid((3, 3), (1, 0), colspan=2)\n",
    "\n",
    "plt.subplots_adjust(\n",
    "#    left=0.125,\n",
    "#    right=0.9,\n",
    "#    bottom=.5,\n",
    "#    top=0.9,\n",
    "    wspace=-0.1,\n",
    "    hspace=-0.22,\n",
    ")\n",
    "\n",
    "for ax in [axk, axz, axe]:\n",
    "    ax.axis(\"equal\")\n",
    "    ax.xaxis.set_visible(False)\n",
    "    ax.yaxis.set_visible(False)\n",
    "    ax.spines[['top', 'bottom', 'right', 'left']].set_visible(False)\n",
    "\n",
    "order = 35\n",
    "height = 0.775\n",
    "axk.set_title(f\"K Basis, n = {order}\", y=height)\n",
    "axz.set_title(f\"K Basis, n = {order}\", y=height)\n",
    "\n",
    "imk = axk.imshow(kimgs[order], animated=True)\n",
    "imz = axz.imshow(zimgs[order], animated=True)\n",
    "ime = axe.imshow(l2imgs[order], animated=True)\n",
    "\n",
    "plt.show()"
   ]
  },
  {
   "cell_type": "code",
   "execution_count": null,
   "id": "5f3457c9-9711-4d8e-853f-582374f5c936",
   "metadata": {},
   "outputs": [
    {
     "name": "stderr",
     "output_type": "stream",
     "text": [
      "MovieWriter ffmpeg unavailable; using Pillow instead.\n"
     ]
    }
   ],
   "source": [
    "# update function\n",
    "def update(order):\n",
    "    imk.set_array(kimgs[order])\n",
    "    imz.set_array(zimgs[order])\n",
    "    ime.set_array(l2imgs[order])\n",
    "    \n",
    "    axk.set_title(f\"K Basis, n = {order}\")\n",
    "    axz.set_title(f\"Z Basis, n = {order}\")\n",
    "    return imk, imz, ime\n",
    "\n",
    "\n",
    "# creating the gif\n",
    "animation_fig = animation.FuncAnimation(\n",
    "    fig,\n",
    "    update,\n",
    "    frames=len(kimgs),\n",
    "    interval=200,\n",
    "    blit=True,\n",
    "    repeat_delay=10,\n",
    ")\n",
    "\n",
    "sides = 3\n",
    "animation_fig.save(\n",
    "    f\"{sides}sides.gif\",\n",
    "    dpi=600,\n",
    ")"
   ]
  }
 ],
 "metadata": {
  "kernelspec": {
   "display_name": "Python 3 (ipykernel)",
   "language": "python",
   "name": "python3"
  },
  "language_info": {
   "codemirror_mode": {
    "name": "ipython",
    "version": 3
   },
   "file_extension": ".py",
   "mimetype": "text/x-python",
   "name": "python",
   "nbconvert_exporter": "python",
   "pygments_lexer": "ipython3",
   "version": "3.12.7"
  }
 },
 "nbformat": 4,
 "nbformat_minor": 5
}
